{
 "cells": [
  {
   "cell_type": "code",
   "execution_count": 5,
   "id": "a77492a4",
   "metadata": {},
   "outputs": [
    {
     "name": "stdout",
     "output_type": "stream",
     "text": [
      "1.5.3\n"
     ]
    }
   ],
   "source": [
    "import pandas as pd\n",
    "print(pd.__version__)"
   ]
  },
  {
   "cell_type": "code",
   "execution_count": 7,
   "id": "72662e90",
   "metadata": {},
   "outputs": [],
   "source": [
    "# import libraries\n",
    "import pandas as pd\n",
    "import numpy as np\n",
    "import os"
   ]
  },
  {
   "cell_type": "code",
   "execution_count": 8,
   "id": "07b8380a",
   "metadata": {},
   "outputs": [],
   "source": [
    "x = 2"
   ]
  },
  {
   "cell_type": "code",
   "execution_count": 9,
   "id": "f20b7c00",
   "metadata": {},
   "outputs": [
    {
     "data": {
      "text/plain": [
       "2"
      ]
     },
     "execution_count": 9,
     "metadata": {},
     "output_type": "execute_result"
    }
   ],
   "source": [
    "x"
   ]
  },
  {
   "cell_type": "code",
   "execution_count": 10,
   "id": "14ac483a",
   "metadata": {},
   "outputs": [
    {
     "name": "stdout",
     "output_type": "stream",
     "text": [
      "2\n"
     ]
    }
   ],
   "source": [
    "print(x)"
   ]
  },
  {
   "cell_type": "code",
   "execution_count": 11,
   "id": "ddd283dc",
   "metadata": {},
   "outputs": [
    {
     "data": {
      "text/plain": [
       "int"
      ]
     },
     "execution_count": 11,
     "metadata": {},
     "output_type": "execute_result"
    }
   ],
   "source": [
    "type(x)"
   ]
  },
  {
   "cell_type": "code",
   "execution_count": 12,
   "id": "25a1dd59",
   "metadata": {},
   "outputs": [],
   "source": [
    "y = 5.678"
   ]
  },
  {
   "cell_type": "code",
   "execution_count": 13,
   "id": "4b742e23",
   "metadata": {},
   "outputs": [
    {
     "data": {
      "text/plain": [
       "float"
      ]
     },
     "execution_count": 13,
     "metadata": {},
     "output_type": "execute_result"
    }
   ],
   "source": [
    "type(y)"
   ]
  },
  {
   "cell_type": "code",
   "execution_count": 14,
   "id": "32929ec0",
   "metadata": {},
   "outputs": [],
   "source": [
    "z = 'Brazil'"
   ]
  },
  {
   "cell_type": "code",
   "execution_count": 15,
   "id": "76006889",
   "metadata": {},
   "outputs": [
    {
     "data": {
      "text/plain": [
       "str"
      ]
     },
     "execution_count": 15,
     "metadata": {},
     "output_type": "execute_result"
    }
   ],
   "source": [
    "type(z)"
   ]
  },
  {
   "cell_type": "code",
   "execution_count": 16,
   "id": "2dbfab84",
   "metadata": {},
   "outputs": [
    {
     "data": {
      "text/plain": [
       "bool"
      ]
     },
     "execution_count": 16,
     "metadata": {},
     "output_type": "execute_result"
    }
   ],
   "source": [
    "type(True)"
   ]
  },
  {
   "cell_type": "code",
   "execution_count": 17,
   "id": "73456c4d",
   "metadata": {},
   "outputs": [
    {
     "name": "stdout",
     "output_type": "stream",
     "text": [
      "2\n"
     ]
    }
   ],
   "source": [
    "print(x)"
   ]
  },
  {
   "cell_type": "code",
   "execution_count": 18,
   "id": "16bfb633",
   "metadata": {},
   "outputs": [
    {
     "data": {
      "text/plain": [
       "6"
      ]
     },
     "execution_count": 18,
     "metadata": {},
     "output_type": "execute_result"
    }
   ],
   "source": [
    "x + 4"
   ]
  },
  {
   "cell_type": "code",
   "execution_count": 19,
   "id": "d0d2a121",
   "metadata": {},
   "outputs": [],
   "source": [
    "x = x + 4"
   ]
  },
  {
   "cell_type": "code",
   "execution_count": 20,
   "id": "3b3407c7",
   "metadata": {},
   "outputs": [
    {
     "name": "stdout",
     "output_type": "stream",
     "text": [
      "6\n"
     ]
    }
   ],
   "source": [
    "print(x)"
   ]
  },
  {
   "cell_type": "code",
   "execution_count": 26,
   "id": "26e78127",
   "metadata": {},
   "outputs": [],
   "source": [
    "a = 'Hello,'"
   ]
  },
  {
   "cell_type": "code",
   "execution_count": 27,
   "id": "3123d17c",
   "metadata": {},
   "outputs": [],
   "source": [
    "b = 'Marley'"
   ]
  },
  {
   "cell_type": "code",
   "execution_count": 28,
   "id": "8d9640ba",
   "metadata": {},
   "outputs": [
    {
     "data": {
      "text/plain": [
       "'Hello,Marley'"
      ]
     },
     "execution_count": 28,
     "metadata": {},
     "output_type": "execute_result"
    }
   ],
   "source": [
    "a + b"
   ]
  },
  {
   "cell_type": "code",
   "execution_count": 33,
   "id": "710301e7",
   "metadata": {},
   "outputs": [],
   "source": [
    "n = 'potato'"
   ]
  },
  {
   "cell_type": "code",
   "execution_count": 34,
   "id": "051e826f",
   "metadata": {},
   "outputs": [
    {
     "data": {
      "text/plain": [
       "'potatopotatopotatopotatopotatopotatopotatopotatopotatopotatopotatopotato'"
      ]
     },
     "execution_count": 34,
     "metadata": {},
     "output_type": "execute_result"
    }
   ],
   "source": [
    "n * 12"
   ]
  },
  {
   "cell_type": "code",
   "execution_count": 35,
   "id": "6168e67f",
   "metadata": {},
   "outputs": [
    {
     "data": {
      "text/plain": [
       "False"
      ]
     },
     "execution_count": 35,
     "metadata": {},
     "output_type": "execute_result"
    }
   ],
   "source": [
    "x == y"
   ]
  },
  {
   "cell_type": "code",
   "execution_count": 36,
   "id": "3f31b59a",
   "metadata": {},
   "outputs": [
    {
     "data": {
      "text/plain": [
       "bool"
      ]
     },
     "execution_count": 36,
     "metadata": {},
     "output_type": "execute_result"
    }
   ],
   "source": [
    "type(x == y)"
   ]
  },
  {
   "cell_type": "code",
   "execution_count": 37,
   "id": "e848f91d",
   "metadata": {},
   "outputs": [
    {
     "name": "stdout",
     "output_type": "stream",
     "text": [
      "Result by addition: 100\n",
      "Result by subtraction: 0\n"
     ]
    }
   ],
   "source": [
    "# Define two numeric variables\n",
    "num1 = 50\n",
    "num2 = 50\n",
    "\n",
    "# Adding the variables\n",
    "result_addition = num1 + num2\n",
    "print(\"Result by addition:\", result_addition)\n",
    "\n",
    "# Subtracting the variables\n",
    "result_subtraction = num1 - num2\n",
    "print(\"Result by subtraction:\", result_subtraction)"
   ]
  },
  {
   "cell_type": "code",
   "execution_count": 38,
   "id": "a90c8303",
   "metadata": {},
   "outputs": [
    {
     "name": "stdout",
     "output_type": "stream",
     "text": [
      "Result by division: 1.6666666666666667\n"
     ]
    }
   ],
   "source": [
    "# Define two numeric variables\n",
    "n1 = 2.5\n",
    "n2 = 1.5\n",
    "\n",
    "# Dividing the variables\n",
    "result_division = n1/n2\n",
    "print(\"Result by division:\", result_division)"
   ]
  },
  {
   "cell_type": "code",
   "execution_count": 40,
   "id": "b5b54708",
   "metadata": {},
   "outputs": [
    {
     "name": "stdout",
     "output_type": "stream",
     "text": [
      "Career Foundry\n"
     ]
    }
   ],
   "source": [
    "# Concate two string\n",
    "x = \"Career \"\n",
    "y = \"Foundry\"\n",
    "name = x + y\n",
    "print(name)"
   ]
  },
  {
   "cell_type": "code",
   "execution_count": 42,
   "id": "0d569017",
   "metadata": {},
   "outputs": [
    {
     "name": "stdout",
     "output_type": "stream",
     "text": [
      "Hello, How are you?\n"
     ]
    }
   ],
   "source": [
    "# Concate two sentences\n",
    "Sentence1 = \"Hello, \"\n",
    "Sentence2 = \"How are you?\"\n",
    "Sentence = Sentence1 + Sentence2\n",
    "print(Sentence)"
   ]
  },
  {
   "cell_type": "code",
   "execution_count": 56,
   "id": "cd3be146",
   "metadata": {},
   "outputs": [
    {
     "data": {
      "text/plain": [
       "'careerfoundrycareerfoundrycareerfoundrycareerfoundrycareerfoundrycareerfoundrycareerfoundrycareerfoundrycareerfoundrycareerfoundrycareerfoundrycareerfoundrycareerfoundrycareerfoundrycareerfoundrycareerfoundrycareerfoundrycareerfoundrycareerfoundrycareerfoundrycareerfoundrycareerfoundrycareerfoundrycareerfoundrycareerfoundrycareerfoundrycareerfoundrycareerfoundrycareerfoundrycareerfoundrycareerfoundrycareerfoundrycareerfoundrycareerfoundrycareerfoundrycareerfoundrycareerfoundrycareerfoundrycareerfoundrycareerfoundrycareerfoundrycareerfoundrycareerfoundrycareerfoundrycareerfoundrycareerfoundrycareerfoundrycareerfoundrycareerfoundrycareerfoundrycareerfoundrycareerfoundrycareerfoundrycareerfoundrycareerfoundrycareerfoundrycareerfoundrycareerfoundrycareerfoundrycareerfoundrycareerfoundrycareerfoundrycareerfoundrycareerfoundrycareerfoundrycareerfoundrycareerfoundrycareerfoundrycareerfoundrycareerfoundrycareerfoundrycareerfoundrycareerfoundrycareerfoundrycareerfoundrycareerfoundrycareerfoundrycareerfoundrycareerfoundrycareerfoundrycareerfoundrycareerfoundrycareerfoundrycareerfoundrycareerfoundrycareerfoundrycareerfoundrycareerfoundrycareerfoundrycareerfoundrycareerfoundrycareerfoundrycareerfoundrycareerfoundrycareerfoundrycareerfoundrycareerfoundrycareerfoundrycareerfoundrycareerfoundry'"
      ]
     },
     "execution_count": 56,
     "metadata": {},
     "output_type": "execute_result"
    }
   ],
   "source": [
    "e = \"careerfoundry\"\n",
    "e * 100"
   ]
  },
  {
   "cell_type": "code",
   "execution_count": null,
   "id": "dbcde311",
   "metadata": {},
   "outputs": [],
   "source": []
  }
 ],
 "metadata": {
  "kernelspec": {
   "display_name": "Python 3 (ipykernel)",
   "language": "python",
   "name": "python3"
  },
  "language_info": {
   "codemirror_mode": {
    "name": "ipython",
    "version": 3
   },
   "file_extension": ".py",
   "mimetype": "text/x-python",
   "name": "python",
   "nbconvert_exporter": "python",
   "pygments_lexer": "ipython3",
   "version": "3.9.13"
  }
 },
 "nbformat": 4,
 "nbformat_minor": 5
}
